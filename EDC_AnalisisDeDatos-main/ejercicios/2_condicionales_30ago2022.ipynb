{
 "cells": [
  {
   "cell_type": "markdown",
   "metadata": {},
   "source": [
    "# Ejercicios: Estructura condicional"
   ]
  },
  {
   "cell_type": "markdown",
   "metadata": {},
   "source": [
    "### Ejercicio 1\n",
    "Escribir un programa que pregunte al usuario su edad y muestre por pantalla si es mayor de edad o no."
   ]
  },
  {
   "cell_type": "code",
   "execution_count": 25,
   "metadata": {},
   "outputs": [
    {
     "name": "stdout",
     "output_type": "stream",
     "text": [
      "!!!Eres mayor de edad!!!\n"
     ]
    }
   ],
   "source": [
    "# Solución\n",
    "a = int(input(\"introduce tu edad:\"))\n",
    "if (a>=18):\n",
    "    print (\"!!!Eres mayor de edad!!!\")\n",
    "else:\n",
    "    print (\"NO ERES MAYOR DE EDAD\")"
   ]
  },
  {
   "cell_type": "markdown",
   "metadata": {},
   "source": [
    "### Ejercicio 2\n",
    "Escribir un programa que almacene una <span style=\"color:#66D9EF\">contraseña</span> en una variable, pregunte al usuario por la <span style=\"color:#66D9EF\">contraseña</span> e imprima por pantalla si la <span style=\"color:#66D9EF\">contraseña</span> introducida por el usuario coincide con la guardada en la variable sin tener en cuenta mayúsculas y minúsculas."
   ]
  },
  {
   "cell_type": "code",
   "execution_count": 88,
   "metadata": {},
   "outputs": [
    {
     "name": "stdout",
     "output_type": "stream",
     "text": [
      "Termina\n"
     ]
    }
   ],
   "source": [
    "# Solución\n",
    "clave = \"hola\"\n",
    "password = input(\"Introduce la contaseña: \")\n",
    "#if (clave == password):\n",
    "if (clave == password.lower()):\n",
    "    print (\"Contraseña correcta\")\n",
    "print(\"Termina\")\n",
    " "
   ]
  },
  {
   "cell_type": "markdown",
   "metadata": {},
   "source": [
    "### Ejercicio 3\n",
    "Escribir un programa que pida al usuario dos números y muestre por pantalla su división. Si el divisor es cero el programa debe mostrar un error."
   ]
  },
  {
   "cell_type": "code",
   "execution_count": 105,
   "metadata": {},
   "outputs": [
    {
     "name": "stdout",
     "output_type": "stream",
     "text": [
      "10.523992322456813\n"
     ]
    }
   ],
   "source": [
    "# Solución\n",
    "a = float (input(\"Introduce un numero: \"))\n",
    "b = float (input(\"Introduce otro numero: \"))\n",
    "if (b != 0):\n",
    "    print (a/b)\n",
    "else:\n",
    "    print(\"Error\")\n"
   ]
  },
  {
   "cell_type": "markdown",
   "metadata": {},
   "source": [
    "### Ejercicio 4\n",
    "Escribir un programa que pida al usuario un número entero y muestre por pantalla si es par o impar."
   ]
  },
  {
   "cell_type": "code",
   "execution_count": 116,
   "metadata": {},
   "outputs": [
    {
     "name": "stdout",
     "output_type": "stream",
     "text": [
      "el numero 5249 es impar\n"
     ]
    }
   ],
   "source": [
    "# Solución\n",
    "a = int (input(\"Introduce un numero: \"))\n",
    "if (a%2 == 0):\n",
    "    print(\"el numero\",a ,\"es par\")\n",
    "else:\n",
    "    print (\"el numero\",a ,\"es impar\")"
   ]
  },
  {
   "cell_type": "markdown",
   "metadata": {},
   "source": [
    "### Ejercicio 5\n",
    "Para pagar un determinado impuesto se debe ser mayor de 16 años y tener unos ingresos iguales o superiores a $5000 mensuales. Escribir un programa que pregunte al usuario su edad y sus ingresos mensuales y muestre por pantalla si el usuario tiene que pagar o no."
   ]
  },
  {
   "cell_type": "code",
   "execution_count": 138,
   "metadata": {},
   "outputs": [
    {
     "name": "stdout",
     "output_type": "stream",
     "text": [
      "Debe de pagar inpuestos\n"
     ]
    }
   ],
   "source": [
    "# Solución\n",
    "a = int(input(\"introduce tu edad:\"))\n",
    "b = int(input(\"Introduce tus ingresos mensuales:\"))\n",
    "if (a>16 and b>=5000):\n",
    "    print(\"Debe de pagar inpuestos\")\n",
    "else:\n",
    "    print(\"No debe de pagar impuestos\")\n"
   ]
  },
  {
   "cell_type": "markdown",
   "metadata": {},
   "source": [
    "### Ejercicio 6\n",
    "Los alumnos de un curso se han dividido en dos grupos A y B de acuerdo al sexo y el nombre. El grupo A esta formado por las mujeres con un nombre anterior a la M y los hombres con un nombre posterior a la N y el grupo B por el resto. Escribir un programa que pregunte al usuario su nombre y sexo, y muestre por pantalla el grupo que le corresponde."
   ]
  },
  {
   "cell_type": "code",
   "execution_count": 148,
   "metadata": {},
   "outputs": [
    {
     "name": "stdout",
     "output_type": "stream",
     "text": [
      "pertenes al grupo A\n"
     ]
    }
   ],
   "source": [
    "# Solución\n",
    "a = input(\"introduce tu nombre: \")\n",
    "b = input(\"eres hombre o mujer (M/H)?: \")\n",
    "if (b == \"M\" and a [0]<\"M\") or (b == \"H\" and a [0]>\"N\"):\n",
    "    print (\"pertenes al grupo A\")\n",
    "else:\n",
    "    print(\"perteneces al grupo B\")\n",
    "        "
   ]
  },
  {
   "cell_type": "code",
   "execution_count": null,
   "metadata": {},
   "outputs": [],
   "source": []
  },
  {
   "cell_type": "markdown",
   "metadata": {},
   "source": [
    "### Ejercicio 7\n",
    "\n",
    "En una determinada empresa, sus empleados son evaluados al final de cada año. Los puntos que pueden obtener en la evaluación comienzan en 0.0 y pueden ir aumentando, traduciéndose en mejores beneficios. Los puntos que pueden conseguir los empleados pueden ser 0.0, 0.4, 0.6 o más, pero no valores intermedios entre las cifras mencionadas. A continuación se muestra una tabla con los niveles correspondientes a cada puntuación. La cantidad de dinero conseguida en cada nivel es de $2,400 multiplicada por la puntuación del nivel.  \n",
    "\n",
    "<center>\n",
    "\n",
    "|Nivel|Puntuación|\n",
    "|:-:|:-:|\n",
    "|Inaceptable|0.0|\n",
    "|Aceptable|0.4|\n",
    "|Meritorio|0.6 o más|\n",
    "\n",
    "</center>\n",
    "\n",
    "Escribir un programa que lea la puntuación del usuario e indique su nivel de rendimiento, así como la cantidad de dinero que recibirá el usuario..\n",
    "\n",
    "\n"
   ]
  },
  {
   "cell_type": "code",
   "execution_count": 185,
   "metadata": {},
   "outputs": [
    {
     "name": "stdout",
     "output_type": "stream",
     "text": [
      "Tu rendimiento es Meritorio\n",
      "Cobraras 2160.0\n"
     ]
    }
   ],
   "source": [
    "# Solución\n",
    "Inaceptable = 0\n",
    "Aceptable = 0.4\n",
    "Mweritorio = 0.6\n",
    "bono = 2400\n",
    "a = float(input(\"introduce tu puntuacion: \"))\n",
    "if (a == Inaceptable):\n",
    "    nivel = \"Inaceptable\"\n",
    "elif a == Aceptable:\n",
    "    nivel = \"Aceptable\"\n",
    "elif a >= 0.6:\n",
    "    nivel = \"Meritorio\"\n",
    "else:\n",
    "    nivel = \" \"\n",
    "if nivel == \" \":\n",
    "    print (\"Puntuacion no valida\")\n",
    "else:\n",
    "    print(f\"Tu rendimiento es {nivel}\")\n",
    "    print(f\"Cobraras {( a * bono)}\")\n"
   ]
  },
  {
   "cell_type": "markdown",
   "metadata": {},
   "source": [
    "### Ejercicio 8\n",
    "Escribir un programa para una empresa que tiene salas de juegos para todas las edades y quiere calcular de forma automática el precio que debe cobrar a sus clientes por entrar. El programa debe preguntar al usuario la edad del cliente y mostrar el precio de la entrada. Si el cliente es menor de 4 años puede entrar gratis, si tiene entre 4 y 18 años debe pagar $5 y si es mayor de 18 años, $10."
   ]
  },
  {
   "cell_type": "code",
   "execution_count": 237,
   "metadata": {},
   "outputs": [
    {
     "name": "stdout",
     "output_type": "stream",
     "text": [
      "El precio de tu entrada es: $10\n"
     ]
    }
   ],
   "source": [
    "# Solución\n",
    "edad = int (input(\"Introduce tu edad: \"))\n",
    "if (edad >= 0 and edad < 4):\n",
    "    print (\"Tu entrada es gratis\")\n",
    "elif (4<= edad and edad <=18):\n",
    "    print (\"El precio de tu entrada es: $5\")\n",
    "elif (18 < edad):\n",
    "    print(\"El precio de tu entrada es: $10\")\n",
    "else:\n",
    "    print(\"Error en la edad.\")\n",
    "    "
   ]
  },
  {
   "cell_type": "markdown",
   "metadata": {},
   "source": [
    "### Ejercicio 9\n",
    "La pizzería Planeta ofrece pizzas vegetarianas y no vegetarianas a sus clientes. Los ingredientes para cada tipo de pizza aparecen a continuación.  \n",
    "\n",
    "* Vegetarianos: Pimiento y tofu.  \n",
    "* No vegetarianos: Peperoni, Jamón y Salmón.  \n",
    "\n",
    "Escribir un programa que pregunte al usuario si quiere una pizza vegetariana o no, y en función de su respuesta le muestre un menú con los ingredientes disponibles para que elija. Solo se puede eligir un ingrediente además de la mozzarella y el tomate que están en todas la pizzas. Al final se debe mostrar por pantalla si la pizza elegida es vegetariana o no y todos los ingredientes que lleva.\n",
    "\n",
    "\n"
   ]
  },
  {
   "cell_type": "code",
   "execution_count": 8,
   "metadata": {},
   "outputs": [
    {
     "name": "stdout",
     "output_type": "stream",
     "text": [
      "Elige un ingrediente: \n",
      "1.-Peperoni\n",
      "2.-Jamon\n",
      "3.-Salmon\n",
      "pizza: No Vegetariana,Ingredientes: Mozzarella,Tomate,Jamon\n"
     ]
    }
   ],
   "source": [
    "# Solución\n",
    "vegetariana = input (\"Desea una pizza vegtariana S/N? \")\n",
    "if (vegetariana == \"s\"):\n",
    "    pizza = \"Vegetariana\"\n",
    "    print(\"Elige un ingrediente: \")\n",
    "    print (\"1.-Pimiento\")\n",
    "    print (\"2.-Tofu\")\n",
    "    seleccion = int (input ())\n",
    "    if seleccion == 1:\n",
    "        ingrediente = \"Pimiento\"\n",
    "    elif seleccion == 2:\n",
    "        ingrediente = \"Tofu\"\n",
    "    else :\n",
    "        ingrediente = \"\"\n",
    "        print(\"Solo Mozzarella y Tomate\")\n",
    "else:\n",
    "    pizza = \"No Vegetariana\"\n",
    "    print(\"Elige un ingrediente: \")\n",
    "    print (\"1.-Peperoni\")\n",
    "    print (\"2.-Jamon\")\n",
    "    print (\"3.-Salmon\")\n",
    "    seleccion = int (input())\n",
    "    if seleccion == 1:\n",
    "        ingrediente = \"Peperoni\"\n",
    "    elif seleccion == 2:\n",
    "        ingrediente = \"Jamon\"\n",
    "    elif seleccion == 3:\n",
    "        ingrediente =\"Salmon\"\n",
    "    else :\n",
    "        ingrediente = \"\"\n",
    "        print(\"Solo Mozzarella y Tomate\")\n",
    "print (f\"pizza: {pizza},Ingredientes: Mozzarella,Tomate,{ingrediente}\")\n",
    "        \n",
    "        \n",
    "        "
   ]
  }
 ],
 "metadata": {
  "kernelspec": {
   "display_name": "Python 3.10.6 64-bit",
   "language": "python",
   "name": "python3"
  },
  "language_info": {
   "codemirror_mode": {
    "name": "ipython",
    "version": 3
   },
   "file_extension": ".py",
   "mimetype": "text/x-python",
   "name": "python",
   "nbconvert_exporter": "python",
   "pygments_lexer": "ipython3",
   "version": "3.10.6"
  },
  "orig_nbformat": 4,
  "vscode": {
   "interpreter": {
    "hash": "0431af0f151d4a4a21b910480976a2634f2eec8395c78eb3b806d16aa6aeb187"
   }
  }
 },
 "nbformat": 4,
 "nbformat_minor": 2
}
