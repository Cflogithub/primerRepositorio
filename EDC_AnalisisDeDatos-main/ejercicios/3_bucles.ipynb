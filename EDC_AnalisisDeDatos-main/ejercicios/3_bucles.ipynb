{
 "cells": [
  {
   "cell_type": "markdown",
   "metadata": {},
   "source": [
    "# Ejercicios: Estructuras iterativas\n",
    "\n"
   ]
  },
  {
   "cell_type": "markdown",
   "metadata": {},
   "source": [
    "### Ejercicio 1\n",
    "Calcular la media de los números pares e impares, sólo se ingresará diez números."
   ]
  },
  {
   "cell_type": "code",
   "execution_count": 2,
   "metadata": {},
   "outputs": [
    {
     "name": "stdout",
     "output_type": "stream",
     "text": [
      "Promedio numeros pares -6.0\n",
      "Promedio numeros impares -7.0\n"
     ]
    }
   ],
   "source": [
    "# Solución\n",
    "sumap = 0\n",
    "contp = 0\n",
    "sumai = 0\n",
    "conti = 0\n",
    "n = 10\n",
    "for i in range (n):\n",
    "    dato=int(input(\"Ingresa el numero: \"))\n",
    "    if dato%2 == 0:\n",
    "        sumap =sumap+dato\n",
    "        contp+=1\n",
    "    else:\n",
    "        sumai=sumai+dato\n",
    "        conti+=1\n",
    "prom = sumap/contp\n",
    "promi=sumai/conti\n",
    "print (\"Promedio numeros pares\", prom)\n",
    "print (\"Promedio numeros impares\",promi)\n",
    "        \n",
    "        "
   ]
  },
  {
   "cell_type": "markdown",
   "metadata": {},
   "source": [
    "### Ejercicio 2\n",
    "Calcular la suma de los n primeros números."
   ]
  },
  {
   "cell_type": "code",
   "execution_count": 28,
   "metadata": {},
   "outputs": [
    {
     "name": "stdout",
     "output_type": "stream",
     "text": [
      "la suma de los numeros es: 42.6\n"
     ]
    }
   ],
   "source": [
    "# Solución\n",
    "#n=5\n",
    "suma=0\n",
    "n= int(input (\"dame la cantidad de numeros a sumar: \"))\n",
    "for i in range (n):\n",
    "    a= float(input (\"dame un numero: \"))\n",
    "    #b= int (input(\"Dame la cantidad de numeros a sumar: \"))\n",
    "    if a >0:\n",
    "        suma=suma+a\n",
    "print (\"la suma de los numeros es:\",suma)\n",
    "    \n",
    "#suma = 0\n",
    "#cont = 0\n",
    "#n=5\n",
    "#for i in range (n):\n",
    "    #dato=int(input(\"introduce los numeros: \"))\n",
    "    #if dato> 0:\n",
    "        #suma = suma+dato\n",
    "        #cont+=1\n",
    "#print (\"La suma es\",suma)\n",
    "    \n",
    "    \n"
   ]
  },
  {
   "cell_type": "markdown",
   "metadata": {},
   "source": [
    "### Ejercicio 3\n",
    "Se quiere saber cuál es la ciudad con la población de más personas, son tres estados  con once ciudades, hacer un algoritmo que nos permita saber eso."
   ]
  },
  {
   "cell_type": "code",
   "execution_count": 39,
   "metadata": {},
   "outputs": [
    {
     "name": "stdout",
     "output_type": "stream",
     "text": [
      "La ciudad con la mayor poblacion es: C 4 con una poblacion de 55 personas\n"
     ]
    }
   ],
   "source": [
    "# Solución\n",
    "pob_max = 0\n",
    "cd_max = 0\n",
    "edo_max = 0\n",
    "for edo in range (1,4):\n",
    "    if edo == 1:\n",
    "        edo_a = \"A\"\n",
    "    elif edo == 2:\n",
    "        edo_a = \"B\"\n",
    "    else:\n",
    "        edo_a = \"C\"\n",
    "    for cd in range (1,12):\n",
    "        pob =int (input (f\"Ingresa # de poblacion: {edo_a},{cd}: \"))\n",
    "        if pob > pob_max:\n",
    "            pob_max = pob\n",
    "            cd_max = cd\n",
    "            edo_max = edo_a\n",
    "print (\"La ciudad con la mayor poblacion es:\",edo_max,cd_max, \"con una poblacion de\",pob_max,\"personas\")\n"
   ]
  },
  {
   "cell_type": "markdown",
   "metadata": {},
   "source": [
    "### Ejercicio 4\n",
    "Imprimir las tablas de multiplicar de los números del uno al nueve."
   ]
  },
  {
   "cell_type": "code",
   "execution_count": 47,
   "metadata": {},
   "outputs": [
    {
     "name": "stdout",
     "output_type": "stream",
     "text": [
      "2  *  0  =  0\n",
      "2  *  1  =  2\n",
      "2  *  2  =  4\n",
      "2  *  3  =  6\n",
      "2  *  4  =  8\n",
      "2  *  5  =  10\n",
      "2  *  6  =  12\n",
      "2  *  7  =  14\n",
      "2  *  8  =  16\n",
      "2  *  9  =  18\n",
      "2  *  10  =  20\n"
     ]
    }
   ],
   "source": [
    "# Solución\n",
    "numero = int (input(\"Introduce el nuemro de la tbala a realizar: \"))\n",
    "for i in range (0,11):\n",
    "    resul=i*numero\n",
    "    print(numero,\" * \", i, \" = \", numero*i)\n",
    "    for \n",
    "    \n"
   ]
  },
  {
   "cell_type": "markdown",
   "metadata": {},
   "source": [
    "### Ejercicio 5\n",
    "Calcular el factorial de un número."
   ]
  },
  {
   "cell_type": "code",
   "execution_count": null,
   "metadata": {},
   "outputs": [],
   "source": [
    "# Solución"
   ]
  },
  {
   "cell_type": "markdown",
   "metadata": {},
   "source": [
    "### Ejercicio 6\n",
    "Hacer un algoritmo que nos diga si un número es primo."
   ]
  },
  {
   "cell_type": "code",
   "execution_count": null,
   "metadata": {},
   "outputs": [],
   "source": [
    "# Solución"
   ]
  },
  {
   "cell_type": "markdown",
   "metadata": {},
   "source": [
    "### Ejercicio 7\n",
    "Hacer un algoritmo que nos imprima los números primos en el rango [2,N]."
   ]
  },
  {
   "cell_type": "code",
   "execution_count": null,
   "metadata": {},
   "outputs": [],
   "source": [
    "# Solución"
   ]
  },
  {
   "cell_type": "markdown",
   "metadata": {},
   "source": [
    "### Ejercicio 8\n",
    "Hacer un algoritmo que nos permita saber cuál es el número mayor y menor, se debe ingresar sólo veinte números."
   ]
  },
  {
   "cell_type": "code",
   "execution_count": null,
   "metadata": {},
   "outputs": [],
   "source": [
    "# Solución"
   ]
  },
  {
   "cell_type": "markdown",
   "metadata": {},
   "source": [
    "### Ejercicio 9\n",
    "Hacer un algoritmo para calcular la serie de Fibonacci."
   ]
  },
  {
   "cell_type": "code",
   "execution_count": null,
   "metadata": {},
   "outputs": [],
   "source": [
    "# Solución"
   ]
  },
  {
   "cell_type": "markdown",
   "metadata": {},
   "source": [
    "### Ejercicio 10\n",
    "Hacer un algoritmo para conseguir el M.C.D de un número por medio del algoritmo de Euclides."
   ]
  },
  {
   "cell_type": "code",
   "execution_count": null,
   "metadata": {},
   "outputs": [],
   "source": [
    "# Solución"
   ]
  }
 ],
 "metadata": {
  "kernelspec": {
   "display_name": "Python 3.10.6 64-bit",
   "language": "python",
   "name": "python3"
  },
  "language_info": {
   "codemirror_mode": {
    "name": "ipython",
    "version": 3
   },
   "file_extension": ".py",
   "mimetype": "text/x-python",
   "name": "python",
   "nbconvert_exporter": "python",
   "pygments_lexer": "ipython3",
   "version": "3.10.6"
  },
  "orig_nbformat": 4,
  "vscode": {
   "interpreter": {
    "hash": "0431af0f151d4a4a21b910480976a2634f2eec8395c78eb3b806d16aa6aeb187"
   }
  }
 },
 "nbformat": 4,
 "nbformat_minor": 2
}
