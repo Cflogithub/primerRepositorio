{
 "cells": [
  {
   "cell_type": "markdown",
   "metadata": {},
   "source": [
    "# Operadores de asignación"
   ]
  },
  {
   "cell_type": "markdown",
   "metadata": {},
   "source": [
    "Anteriormente hemos visto los operadores aritméticos, que usaban dos números para calcular una operación aritmética (como suma o resta) y devolver su resultado. En este caso, los operadores de asignación nos permiten realizar una operación y almacenar su resultado en la variable inicial. Podemos ver como realmente el único operador nuevo es el <span style=\"color:#66D9EF\">=</span>. El resto son abreviaciones de otros operadores que habíamos visto con anterioridad. Ponemos un ejemplo con <span style=\"color:#66D9EF\">x=7</span>\n",
    "|Operador|Ejemplo|Equivalente|\n",
    "|:-:|:-:|:-:|\n",
    "|=|x=7|x=7|\n",
    "|+=|x+=2|x=x+2 = 7|\n",
    "|-=|x-=2|x=x-2 = 5|\n",
    "|*=|x*=2|x=x*2 = 14|\n",
    "|/=|x/=2|x=x/2 = 3.5|\n",
    "|%=|x%=2|x=x%2 = 1|\n",
    "|//=|x//=2|x=x//2 = 3|\n",
    "|**=|x**=2|x=x**2 = 49|\n"
   ]
  },
  {
   "cell_type": "code",
   "execution_count": 2,
   "metadata": {},
   "outputs": [
    {
     "name": "stdout",
     "output_type": "stream",
     "text": [
      "Operadores de asignación\n",
      "x+= 9\n",
      "x-= 5\n",
      "x*= 14\n",
      "x/= 3.5\n",
      "x%= 1\n",
      "x//= 3\n",
      "x**= 49\n"
     ]
    }
   ],
   "source": [
    "a=7; b=2\n",
    "print(\"Operadores de asignación\")\n",
    "x=a; x+=b;  print(\"x+=\", x)  # 9\n",
    "x=a; x-=b;  print(\"x-=\", x)  # 5\n",
    "x=a; x*=b;  print(\"x*=\", x)  # 14\n",
    "x=a; x/=b;  print(\"x/=\", x)  # 3.5\n",
    "x=a; x%=b;  print(\"x%=\", x)  # 1\n",
    "x=a; x//=b; print(\"x//=\", x) # 3\n",
    "x=a; x**=b; print(\"x**=\", x) # 49"
   ]
  },
  {
   "cell_type": "code",
   "execution_count": null,
   "metadata": {},
   "outputs": [],
   "source": []
  }
 ],
 "metadata": {
  "kernelspec": {
   "display_name": "Python 3.10.6 64-bit",
   "language": "python",
   "name": "python3"
  },
  "language_info": {
   "codemirror_mode": {
    "name": "ipython",
    "version": 3
   },
   "file_extension": ".py",
   "mimetype": "text/x-python",
   "name": "python",
   "nbconvert_exporter": "python",
   "pygments_lexer": "ipython3",
   "version": "3.10.6"
  },
  "orig_nbformat": 4,
  "vscode": {
   "interpreter": {
    "hash": "0431af0f151d4a4a21b910480976a2634f2eec8395c78eb3b806d16aa6aeb187"
   }
  }
 },
 "nbformat": 4,
 "nbformat_minor": 2
}
